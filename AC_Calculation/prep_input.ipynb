{
 "cells": [
  {
   "cell_type": "markdown",
   "metadata": {},
   "source": [
    "\n",
    "# This is an outline of how to prep the input data for the adiabatic contraction code."
   ]
  },
  {
   "cell_type": "code",
   "execution_count": 7,
   "metadata": {},
   "outputs": [],
   "source": [
    "#import the necessary packages\n",
    "import numpy as np\n",
    "from astropy.io import ascii \n",
    "from astropy.table import Table"
   ]
  },
  {
   "cell_type": "code",
   "execution_count": 25,
   "metadata": {},
   "outputs": [],
   "source": [
    "# load in your data from your simulation (this is just mock data so you will need to change this to your data)\n",
    "r = np.arange(0.01,300,0.4) #kpc\n",
    "r_200= 211.83 #kpc\n",
    "r_200_index = np.argmin(np.abs((r-r_200)))\n",
    "M_enc_stars = np.logspace(9,11,len(r)) #Msun\n",
    "M_enc_dm =  np.logspace(8,13,len(r)) #Msun\n",
    "M_enc_dm_DMO =  np.logspace(8,13,len(r)) #Msun"
   ]
  },
  {
   "cell_type": "code",
   "execution_count": 23,
   "metadata": {},
   "outputs": [],
   "source": [
    "# Normalize the mass profiles according to equations (s-2 - s-6) in Appendix D subsection 1. \n",
    "norm_fraction = (M_enc_dm[r_200_index]+ M_enc_stars[r_200_index])/M_enc_dm_DMO[r_200_index]\n",
    "M_enc_dm_DMO_normed = M_enc_dm_DMO*norm_fraction\n",
    "M_200 = M_enc_dm_DMO_normed[r_200_index]\n",
    "f_b = M_enc_stars[r_200_index]/(M_200)\n",
    "M_enc_stellar_i = M_enc_dm_DMO_normed*f_b\n",
    "M_enc_dm_i = M_enc_dm_DMO_normed*(1-f_b)"
   ]
  },
  {
   "cell_type": "code",
   "execution_count": 24,
   "metadata": {},
   "outputs": [],
   "source": [
    "# Save the data in an ascii table\n",
    "data = Table()\n",
    "data['ri'] = r  #grid of the initial radii \n",
    "data['mbi'] =  np.array(M_enc_stellar_i)  # initial baryon enclosed mass\n",
    "data['mhi'] = np.array(M_enc_dm_i) #initial dark matter enclosed mass\n",
    "data['rbf'] = r #final radii for the baryon profile\n",
    "data['mbf'] = np.array(M_enc_stars) #final baryon enclosed mass \n",
    "ascii.write(data, 'enter a path', overwrite=True)"
   ]
  }
 ],
 "metadata": {
  "kernelspec": {
   "display_name": "plotting_env",
   "language": "python",
   "name": "python3"
  },
  "language_info": {
   "codemirror_mode": {
    "name": "ipython",
    "version": 3
   },
   "file_extension": ".py",
   "mimetype": "text/x-python",
   "name": "python",
   "nbconvert_exporter": "python",
   "pygments_lexer": "ipython3",
   "version": "3.9.18"
  }
 },
 "nbformat": 4,
 "nbformat_minor": 2
}
